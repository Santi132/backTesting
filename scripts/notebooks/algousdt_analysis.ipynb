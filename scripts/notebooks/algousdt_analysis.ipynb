{
 "cells": [
  {
   "cell_type": "code",
   "execution_count": 1,
   "metadata": {},
   "outputs": [],
   "source": [
    "%matplotlib widget\n",
    "import pandas as pd\n",
    "import matplotlib\n",
    "import matplotlib.pyplot as plt\n",
    "import mplfinance as mpf\n",
    "from pathlib import Path\n",
    "import backtrader as bt\n",
    "import plotly.io as pio\n",
    "import datetime\n",
    "\n",
    "CRYPTO_DATA_CSV_PATH = Path('~/work/backtesting/data')\n",
    "ALGOUSDT_CSV_FILE = CRYPTO_DATA_CSV_PATH / 'ALGOUSDT_MinuteBars.csv'\n",
    "EXTERNAL_CRYPTO_CSVS = Path('~/External/crypto_csvs')\n",
    "EXTERNAL_ALGOUSDT_CSVS_PATH = EXTERNAL_CRYPTO_CSVS / 'Algorand'"
   ]
  },
  {
   "cell_type": "code",
   "execution_count": 2,
   "metadata": {},
   "outputs": [],
   "source": [
    "data_pd = pd.read_csv(ALGOUSDT_CSV_FILE)\n",
    "data_pd = data_pd.drop(columns=['ignore', 'tb_base_av', 'tb_quote_av', 'quote_av', 'trades', 'close_time'])\n",
    "data_pd['timestamp'] = data_pd['timestamp'].apply(lambda x: x.split('.')[0])\n",
    "data_pd.timestamp = pd.to_datetime(data_pd.timestamp, format='%Y-%m-%d %H:%M:%S')\n",
    "data_pd = data_pd.set_index('timestamp')"
   ]
  },
  {
   "cell_type": "code",
   "execution_count": 3,
   "metadata": {},
   "outputs": [],
   "source": [
    "#need to split up the data\n",
    "grouped_by_month = data_pd.groupby(pd.Grouper(level='timestamp', freq='M'))"
   ]
  },
  {
   "cell_type": "code",
   "execution_count": 4,
   "metadata": {},
   "outputs": [],
   "source": [
    "monthly_grouping_dict = {}\n",
    "for month_timestamp, group in grouped_by_month:\n",
    "    month_timestamp_str = month_timestamp.strftime('%Y-%m')\n",
    "    monthly_grouping_dict[f'{month_timestamp_str}'] = group"
   ]
  },
  {
   "cell_type": "code",
   "execution_count": 10,
   "metadata": {},
   "outputs": [],
   "source": [
    "for month_tstamp, group_df in monthly_grouping_dict.items():\n",
    "    path_to_write = EXTERNAL_ALGOUSDT_CSVS_PATH / f'{month_tstamp}.csv'\n",
    "    group_df.to_csv(path_to_write)"
   ]
  },
  {
   "cell_type": "code",
   "execution_count": null,
   "metadata": {},
   "outputs": [],
   "source": [
    "!ls ~/External/"
   ]
  },
  {
   "cell_type": "code",
   "execution_count": null,
   "metadata": {},
   "outputs": [],
   "source": []
  }
 ],
 "metadata": {
  "interpreter": {
   "hash": "d72d1ed2564b1e65606fcf49dfc02dfeda243a853025a675a1dfd654535fa345"
  },
  "kernelspec": {
   "display_name": "Python 3.9.9 64-bit ('backtesting': conda)",
   "language": "python",
   "name": "python399jvsc74a57bd0d72d1ed2564b1e65606fcf49dfc02dfeda243a853025a675a1dfd654535fa345"
  },
  "language_info": {
   "codemirror_mode": {
    "name": "ipython",
    "version": 3
   },
   "file_extension": ".py",
   "mimetype": "text/x-python",
   "name": "python",
   "nbconvert_exporter": "python",
   "pygments_lexer": "ipython3",
   "version": "3.9.9"
  }
 },
 "nbformat": 4,
 "nbformat_minor": 4
}
